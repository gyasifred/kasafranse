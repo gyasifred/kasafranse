{
  "nbformat": 4,
  "nbformat_minor": 0,
  "metadata": {
    "colab": {
      "provenance": [],
      "mount_file_id": "https://github.com/gyasifred/kasafranse/blob/main/tutorial_kasa_franse.ipynb",
      "authorship_tag": "ABX9TyN8C6pat7XOgYij/i3YHLNF",
      "include_colab_link": true
    },
    "kernelspec": {
      "name": "python3",
      "display_name": "Python 3"
    },
    "language_info": {
      "name": "python"
    }
  },
  "cells": [
    {
      "cell_type": "markdown",
      "metadata": {
        "id": "view-in-github",
        "colab_type": "text"
      },
      "source": [
        "<a href=\"https://colab.research.google.com/github/gyasifred/kasafranse/blob/main/tutorial_kasa_franse.ipynb\" target=\"_parent\"><img src=\"https://colab.research.google.com/assets/colab-badge.svg\" alt=\"Open In Colab\"/></a>"
      ]
    },
    {
      "cell_type": "markdown",
      "source": [
        "# KASAFRANSE TUTORIAL"
      ],
      "metadata": {
        "id": "gaOY-LzPpgKi"
      }
    },
    {
      "cell_type": "code",
      "source": [
        "from google.colab import drive\n",
        "drive.mount('/content/drive')"
      ],
      "metadata": {
        "id": "dYSQQsbcPBb4",
        "outputId": "668fa81f-1834-402e-e306-f2e51667d49f",
        "colab": {
          "base_uri": "https://localhost:8080/"
        }
      },
      "execution_count": 1,
      "outputs": [
        {
          "output_type": "stream",
          "name": "stdout",
          "text": [
            "Drive already mounted at /content/drive; to attempt to forcibly remount, call drive.mount(\"/content/drive\", force_remount=True).\n"
          ]
        }
      ]
    },
    {
      "cell_type": "markdown",
      "source": [
        "This tutorial demonstrate how to install and use the kasafranse library."
      ],
      "metadata": {
        "id": "LcJc4ww4p_Is"
      }
    },
    {
      "cell_type": "markdown",
      "source": [
        "## Install With The Github Link"
      ],
      "metadata": {
        "id": "x70owKpOqN81"
      }
    },
    {
      "cell_type": "code",
      "execution_count": 2,
      "metadata": {
        "colab": {
          "base_uri": "https://localhost:8080/"
        },
        "id": "TCamCOLlAgyE",
        "outputId": "a208e1bc-542c-468d-ac9b-83229da3747e"
      },
      "outputs": [
        {
          "output_type": "stream",
          "name": "stdout",
          "text": [
            "Collecting git+https://github.com/gyasifred/kasafranse\n",
            "  Cloning https://github.com/gyasifred/kasafranse to /tmp/pip-req-build-qhf_qxri\n",
            "  Running command git clone --filter=blob:none --quiet https://github.com/gyasifred/kasafranse /tmp/pip-req-build-qhf_qxri\n",
            "  Resolved https://github.com/gyasifred/kasafranse to commit 43a0dd7718981c1d126e1960139b770b9217558f\n",
            "  Preparing metadata (setup.py) ... \u001b[?25l\u001b[?25hdone\n",
            "Collecting transformers==4.24.0 (from kasafranse==1.0)\n",
            "  Downloading transformers-4.24.0-py3-none-any.whl (5.5 MB)\n",
            "\u001b[2K     \u001b[90m━━━━━━━━━━━━━━━━━━━━━━━━━━━━━━━━━━━━━━━━\u001b[0m \u001b[32m5.5/5.5 MB\u001b[0m \u001b[31m48.5 MB/s\u001b[0m eta \u001b[36m0:00:00\u001b[0m\n",
            "\u001b[?25hCollecting sentencepiece==0.1.97 (from kasafranse==1.0)\n",
            "  Downloading sentencepiece-0.1.97-cp310-cp310-manylinux_2_17_x86_64.manylinux2014_x86_64.whl (1.3 MB)\n",
            "\u001b[2K     \u001b[90m━━━━━━━━━━━━━━━━━━━━━━━━━━━━━━━━━━━━━━━━\u001b[0m \u001b[32m1.3/1.3 MB\u001b[0m \u001b[31m45.5 MB/s\u001b[0m eta \u001b[36m0:00:00\u001b[0m\n",
            "\u001b[?25hCollecting evaluate==0.3.0 (from kasafranse==1.0)\n",
            "  Downloading evaluate-0.3.0-py3-none-any.whl (72 kB)\n",
            "\u001b[2K     \u001b[90m━━━━━━━━━━━━━━━━━━━━━━━━━━━━━━━━━━━━━━━━\u001b[0m \u001b[32m72.9/72.9 kB\u001b[0m \u001b[31m4.4 MB/s\u001b[0m eta \u001b[36m0:00:00\u001b[0m\n",
            "\u001b[?25hCollecting googletrans==3.1.0a0 (from kasafranse==1.0)\n",
            "  Downloading googletrans-3.1.0a0.tar.gz (19 kB)\n",
            "  Preparing metadata (setup.py) ... \u001b[?25l\u001b[?25hdone\n",
            "Collecting accelerate==0.14.0 (from kasafranse==1.0)\n",
            "  Downloading accelerate-0.14.0-py3-none-any.whl (175 kB)\n",
            "\u001b[2K     \u001b[90m━━━━━━━━━━━━━━━━━━━━━━━━━━━━━━━━━━━━━━\u001b[0m \u001b[32m176.0/176.0 kB\u001b[0m \u001b[31m19.6 MB/s\u001b[0m eta \u001b[36m0:00:00\u001b[0m\n",
            "\u001b[?25hCollecting sacrebleu==2.3.1 (from kasafranse==1.0)\n",
            "  Downloading sacrebleu-2.3.1-py3-none-any.whl (118 kB)\n",
            "\u001b[2K     \u001b[90m━━━━━━━━━━━━━━━━━━━━━━━━━━━━━━━━━━━━━━\u001b[0m \u001b[32m118.9/118.9 kB\u001b[0m \u001b[31m13.6 MB/s\u001b[0m eta \u001b[36m0:00:00\u001b[0m\n",
            "\u001b[?25hCollecting nltk==3.7 (from kasafranse==1.0)\n",
            "  Downloading nltk-3.7-py3-none-any.whl (1.5 MB)\n",
            "\u001b[2K     \u001b[90m━━━━━━━━━━━━━━━━━━━━━━━━━━━━━━━━━━━━━━━━\u001b[0m \u001b[32m1.5/1.5 MB\u001b[0m \u001b[31m60.4 MB/s\u001b[0m eta \u001b[36m0:00:00\u001b[0m\n",
            "\u001b[?25hCollecting sacremoses==0.0.53 (from kasafranse==1.0)\n",
            "  Downloading sacremoses-0.0.53.tar.gz (880 kB)\n",
            "\u001b[2K     \u001b[90m━━━━━━━━━━━━━━━━━━━━━━━━━━━━━━━━━━━━━━\u001b[0m \u001b[32m880.6/880.6 kB\u001b[0m \u001b[31m56.0 MB/s\u001b[0m eta \u001b[36m0:00:00\u001b[0m\n",
            "\u001b[?25h  Preparing metadata (setup.py) ... \u001b[?25l\u001b[?25hdone\n",
            "Requirement already satisfied: pandas==1.5.3 in /usr/local/lib/python3.10/dist-packages (from kasafranse==1.0) (1.5.3)\n",
            "Requirement already satisfied: numpy>=1.17 in /usr/local/lib/python3.10/dist-packages (from accelerate==0.14.0->kasafranse==1.0) (1.22.4)\n",
            "Requirement already satisfied: packaging>=20.0 in /usr/local/lib/python3.10/dist-packages (from accelerate==0.14.0->kasafranse==1.0) (23.1)\n",
            "Requirement already satisfied: psutil in /usr/local/lib/python3.10/dist-packages (from accelerate==0.14.0->kasafranse==1.0) (5.9.5)\n",
            "Requirement already satisfied: pyyaml in /usr/local/lib/python3.10/dist-packages (from accelerate==0.14.0->kasafranse==1.0) (6.0)\n",
            "Requirement already satisfied: torch>=1.4.0 in /usr/local/lib/python3.10/dist-packages (from accelerate==0.14.0->kasafranse==1.0) (2.0.1+cu118)\n",
            "Collecting datasets>=2.0.0 (from evaluate==0.3.0->kasafranse==1.0)\n",
            "  Downloading datasets-2.13.1-py3-none-any.whl (486 kB)\n",
            "\u001b[2K     \u001b[90m━━━━━━━━━━━━━━━━━━━━━━━━━━━━━━━━━━━━━━\u001b[0m \u001b[32m486.2/486.2 kB\u001b[0m \u001b[31m43.9 MB/s\u001b[0m eta \u001b[36m0:00:00\u001b[0m\n",
            "\u001b[?25hCollecting dill (from evaluate==0.3.0->kasafranse==1.0)\n",
            "  Downloading dill-0.3.6-py3-none-any.whl (110 kB)\n",
            "\u001b[2K     \u001b[90m━━━━━━━━━━━━━━━━━━━━━━━━━━━━━━━━━━━━━━\u001b[0m \u001b[32m110.5/110.5 kB\u001b[0m \u001b[31m12.7 MB/s\u001b[0m eta \u001b[36m0:00:00\u001b[0m\n",
            "\u001b[?25hRequirement already satisfied: requests>=2.19.0 in /usr/local/lib/python3.10/dist-packages (from evaluate==0.3.0->kasafranse==1.0) (2.27.1)\n",
            "Requirement already satisfied: tqdm>=4.62.1 in /usr/local/lib/python3.10/dist-packages (from evaluate==0.3.0->kasafranse==1.0) (4.65.0)\n",
            "Collecting xxhash (from evaluate==0.3.0->kasafranse==1.0)\n",
            "  Downloading xxhash-3.2.0-cp310-cp310-manylinux_2_17_x86_64.manylinux2014_x86_64.whl (212 kB)\n",
            "\u001b[2K     \u001b[90m━━━━━━━━━━━━━━━━━━━━━━━━━━━━━━━━━━━━━━\u001b[0m \u001b[32m212.5/212.5 kB\u001b[0m \u001b[31m20.9 MB/s\u001b[0m eta \u001b[36m0:00:00\u001b[0m\n",
            "\u001b[?25hCollecting multiprocess (from evaluate==0.3.0->kasafranse==1.0)\n",
            "  Downloading multiprocess-0.70.14-py310-none-any.whl (134 kB)\n",
            "\u001b[2K     \u001b[90m━━━━━━━━━━━━━━━━━━━━━━━━━━━━━━━━━━━━━━\u001b[0m \u001b[32m134.3/134.3 kB\u001b[0m \u001b[31m15.9 MB/s\u001b[0m eta \u001b[36m0:00:00\u001b[0m\n",
            "\u001b[?25hRequirement already satisfied: fsspec[http]>=2021.05.0 in /usr/local/lib/python3.10/dist-packages (from evaluate==0.3.0->kasafranse==1.0) (2023.6.0)\n",
            "Collecting huggingface-hub>=0.7.0 (from evaluate==0.3.0->kasafranse==1.0)\n",
            "  Downloading huggingface_hub-0.15.1-py3-none-any.whl (236 kB)\n",
            "\u001b[2K     \u001b[90m━━━━━━━━━━━━━━━━━━━━━━━━━━━━━━━━━━━━━━\u001b[0m \u001b[32m236.8/236.8 kB\u001b[0m \u001b[31m16.7 MB/s\u001b[0m eta \u001b[36m0:00:00\u001b[0m\n",
            "\u001b[?25hCollecting responses<0.19 (from evaluate==0.3.0->kasafranse==1.0)\n",
            "  Downloading responses-0.18.0-py3-none-any.whl (38 kB)\n",
            "Collecting httpx==0.13.3 (from googletrans==3.1.0a0->kasafranse==1.0)\n",
            "  Downloading httpx-0.13.3-py3-none-any.whl (55 kB)\n",
            "\u001b[2K     \u001b[90m━━━━━━━━━━━━━━━━━━━━━━━━━━━━━━━━━━━━━━━━\u001b[0m \u001b[32m55.1/55.1 kB\u001b[0m \u001b[31m6.3 MB/s\u001b[0m eta \u001b[36m0:00:00\u001b[0m\n",
            "\u001b[?25hRequirement already satisfied: click in /usr/local/lib/python3.10/dist-packages (from nltk==3.7->kasafranse==1.0) (8.1.3)\n",
            "Requirement already satisfied: joblib in /usr/local/lib/python3.10/dist-packages (from nltk==3.7->kasafranse==1.0) (1.2.0)\n",
            "Requirement already satisfied: regex>=2021.8.3 in /usr/local/lib/python3.10/dist-packages (from nltk==3.7->kasafranse==1.0) (2022.10.31)\n",
            "Requirement already satisfied: python-dateutil>=2.8.1 in /usr/local/lib/python3.10/dist-packages (from pandas==1.5.3->kasafranse==1.0) (2.8.2)\n",
            "Requirement already satisfied: pytz>=2020.1 in /usr/local/lib/python3.10/dist-packages (from pandas==1.5.3->kasafranse==1.0) (2022.7.1)\n",
            "Collecting portalocker (from sacrebleu==2.3.1->kasafranse==1.0)\n",
            "  Downloading portalocker-2.7.0-py2.py3-none-any.whl (15 kB)\n",
            "Requirement already satisfied: tabulate>=0.8.9 in /usr/local/lib/python3.10/dist-packages (from sacrebleu==2.3.1->kasafranse==1.0) (0.8.10)\n",
            "Collecting colorama (from sacrebleu==2.3.1->kasafranse==1.0)\n",
            "  Downloading colorama-0.4.6-py2.py3-none-any.whl (25 kB)\n",
            "Requirement already satisfied: lxml in /usr/local/lib/python3.10/dist-packages (from sacrebleu==2.3.1->kasafranse==1.0) (4.9.2)\n",
            "Requirement already satisfied: six in /usr/local/lib/python3.10/dist-packages (from sacremoses==0.0.53->kasafranse==1.0) (1.16.0)\n",
            "Requirement already satisfied: filelock in /usr/local/lib/python3.10/dist-packages (from transformers==4.24.0->kasafranse==1.0) (3.12.2)\n",
            "Collecting tokenizers!=0.11.3,<0.14,>=0.11.1 (from transformers==4.24.0->kasafranse==1.0)\n",
            "  Downloading tokenizers-0.13.3-cp310-cp310-manylinux_2_17_x86_64.manylinux2014_x86_64.whl (7.8 MB)\n",
            "\u001b[2K     \u001b[90m━━━━━━━━━━━━━━━━━━━━━━━━━━━━━━━━━━━━━━━━\u001b[0m \u001b[32m7.8/7.8 MB\u001b[0m \u001b[31m80.9 MB/s\u001b[0m eta \u001b[36m0:00:00\u001b[0m\n",
            "\u001b[?25hRequirement already satisfied: certifi in /usr/local/lib/python3.10/dist-packages (from httpx==0.13.3->googletrans==3.1.0a0->kasafranse==1.0) (2023.5.7)\n",
            "Collecting hstspreload (from httpx==0.13.3->googletrans==3.1.0a0->kasafranse==1.0)\n",
            "  Downloading hstspreload-2023.1.1-py3-none-any.whl (1.5 MB)\n",
            "\u001b[2K     \u001b[90m━━━━━━━━━━━━━━━━━━━━━━━━━━━━━━━━━━━━━━━━\u001b[0m \u001b[32m1.5/1.5 MB\u001b[0m \u001b[31m73.4 MB/s\u001b[0m eta \u001b[36m0:00:00\u001b[0m\n",
            "\u001b[?25hRequirement already satisfied: sniffio in /usr/local/lib/python3.10/dist-packages (from httpx==0.13.3->googletrans==3.1.0a0->kasafranse==1.0) (1.3.0)\n",
            "Collecting chardet==3.* (from httpx==0.13.3->googletrans==3.1.0a0->kasafranse==1.0)\n",
            "  Downloading chardet-3.0.4-py2.py3-none-any.whl (133 kB)\n",
            "\u001b[2K     \u001b[90m━━━━━━━━━━━━━━━━━━━━━━━━━━━━━━━━━━━━━━\u001b[0m \u001b[32m133.4/133.4 kB\u001b[0m \u001b[31m15.9 MB/s\u001b[0m eta \u001b[36m0:00:00\u001b[0m\n",
            "\u001b[?25hCollecting idna==2.* (from httpx==0.13.3->googletrans==3.1.0a0->kasafranse==1.0)\n",
            "  Downloading idna-2.10-py2.py3-none-any.whl (58 kB)\n",
            "\u001b[2K     \u001b[90m━━━━━━━━━━━━━━━━━━━━━━━━━━━━━━━━━━━━━━━━\u001b[0m \u001b[32m58.8/58.8 kB\u001b[0m \u001b[31m6.8 MB/s\u001b[0m eta \u001b[36m0:00:00\u001b[0m\n",
            "\u001b[?25hCollecting rfc3986<2,>=1.3 (from httpx==0.13.3->googletrans==3.1.0a0->kasafranse==1.0)\n",
            "  Downloading rfc3986-1.5.0-py2.py3-none-any.whl (31 kB)\n",
            "Collecting httpcore==0.9.* (from httpx==0.13.3->googletrans==3.1.0a0->kasafranse==1.0)\n",
            "  Downloading httpcore-0.9.1-py3-none-any.whl (42 kB)\n",
            "\u001b[2K     \u001b[90m━━━━━━━━━━━━━━━━━━━━━━━━━━━━━━━━━━━━━━━━\u001b[0m \u001b[32m42.6/42.6 kB\u001b[0m \u001b[31m4.7 MB/s\u001b[0m eta \u001b[36m0:00:00\u001b[0m\n",
            "\u001b[?25hCollecting h11<0.10,>=0.8 (from httpcore==0.9.*->httpx==0.13.3->googletrans==3.1.0a0->kasafranse==1.0)\n",
            "  Downloading h11-0.9.0-py2.py3-none-any.whl (53 kB)\n",
            "\u001b[2K     \u001b[90m━━━━━━━━━━━━━━━━━━━━━━━━━━━━━━━━━━━━━━━━\u001b[0m \u001b[32m53.6/53.6 kB\u001b[0m \u001b[31m6.7 MB/s\u001b[0m eta \u001b[36m0:00:00\u001b[0m\n",
            "\u001b[?25hCollecting h2==3.* (from httpcore==0.9.*->httpx==0.13.3->googletrans==3.1.0a0->kasafranse==1.0)\n",
            "  Downloading h2-3.2.0-py2.py3-none-any.whl (65 kB)\n",
            "\u001b[2K     \u001b[90m━━━━━━━━━━━━━━━━━━━━━━━━━━━━━━━━━━━━━━━━\u001b[0m \u001b[32m65.0/65.0 kB\u001b[0m \u001b[31m7.9 MB/s\u001b[0m eta \u001b[36m0:00:00\u001b[0m\n",
            "\u001b[?25hCollecting hyperframe<6,>=5.2.0 (from h2==3.*->httpcore==0.9.*->httpx==0.13.3->googletrans==3.1.0a0->kasafranse==1.0)\n",
            "  Downloading hyperframe-5.2.0-py2.py3-none-any.whl (12 kB)\n",
            "Collecting hpack<4,>=3.0 (from h2==3.*->httpcore==0.9.*->httpx==0.13.3->googletrans==3.1.0a0->kasafranse==1.0)\n",
            "  Downloading hpack-3.0.0-py2.py3-none-any.whl (38 kB)\n",
            "Requirement already satisfied: pyarrow>=8.0.0 in /usr/local/lib/python3.10/dist-packages (from datasets>=2.0.0->evaluate==0.3.0->kasafranse==1.0) (9.0.0)\n",
            "Requirement already satisfied: aiohttp in /usr/local/lib/python3.10/dist-packages (from datasets>=2.0.0->evaluate==0.3.0->kasafranse==1.0) (3.8.4)\n",
            "Requirement already satisfied: typing-extensions>=3.7.4.3 in /usr/local/lib/python3.10/dist-packages (from huggingface-hub>=0.7.0->evaluate==0.3.0->kasafranse==1.0) (4.6.3)\n",
            "Requirement already satisfied: urllib3<1.27,>=1.21.1 in /usr/local/lib/python3.10/dist-packages (from requests>=2.19.0->evaluate==0.3.0->kasafranse==1.0) (1.26.16)\n",
            "Requirement already satisfied: charset-normalizer~=2.0.0 in /usr/local/lib/python3.10/dist-packages (from requests>=2.19.0->evaluate==0.3.0->kasafranse==1.0) (2.0.12)\n",
            "Requirement already satisfied: sympy in /usr/local/lib/python3.10/dist-packages (from torch>=1.4.0->accelerate==0.14.0->kasafranse==1.0) (1.11.1)\n",
            "Requirement already satisfied: networkx in /usr/local/lib/python3.10/dist-packages (from torch>=1.4.0->accelerate==0.14.0->kasafranse==1.0) (3.1)\n",
            "Requirement already satisfied: jinja2 in /usr/local/lib/python3.10/dist-packages (from torch>=1.4.0->accelerate==0.14.0->kasafranse==1.0) (3.1.2)\n",
            "Requirement already satisfied: triton==2.0.0 in /usr/local/lib/python3.10/dist-packages (from torch>=1.4.0->accelerate==0.14.0->kasafranse==1.0) (2.0.0)\n",
            "Requirement already satisfied: cmake in /usr/local/lib/python3.10/dist-packages (from triton==2.0.0->torch>=1.4.0->accelerate==0.14.0->kasafranse==1.0) (3.25.2)\n",
            "Requirement already satisfied: lit in /usr/local/lib/python3.10/dist-packages (from triton==2.0.0->torch>=1.4.0->accelerate==0.14.0->kasafranse==1.0) (16.0.6)\n",
            "Requirement already satisfied: attrs>=17.3.0 in /usr/local/lib/python3.10/dist-packages (from aiohttp->datasets>=2.0.0->evaluate==0.3.0->kasafranse==1.0) (23.1.0)\n",
            "Requirement already satisfied: multidict<7.0,>=4.5 in /usr/local/lib/python3.10/dist-packages (from aiohttp->datasets>=2.0.0->evaluate==0.3.0->kasafranse==1.0) (6.0.4)\n",
            "Requirement already satisfied: async-timeout<5.0,>=4.0.0a3 in /usr/local/lib/python3.10/dist-packages (from aiohttp->datasets>=2.0.0->evaluate==0.3.0->kasafranse==1.0) (4.0.2)\n",
            "Requirement already satisfied: yarl<2.0,>=1.0 in /usr/local/lib/python3.10/dist-packages (from aiohttp->datasets>=2.0.0->evaluate==0.3.0->kasafranse==1.0) (1.9.2)\n",
            "Requirement already satisfied: frozenlist>=1.1.1 in /usr/local/lib/python3.10/dist-packages (from aiohttp->datasets>=2.0.0->evaluate==0.3.0->kasafranse==1.0) (1.3.3)\n",
            "Requirement already satisfied: aiosignal>=1.1.2 in /usr/local/lib/python3.10/dist-packages (from aiohttp->datasets>=2.0.0->evaluate==0.3.0->kasafranse==1.0) (1.3.1)\n",
            "Requirement already satisfied: MarkupSafe>=2.0 in /usr/local/lib/python3.10/dist-packages (from jinja2->torch>=1.4.0->accelerate==0.14.0->kasafranse==1.0) (2.1.3)\n",
            "Requirement already satisfied: mpmath>=0.19 in /usr/local/lib/python3.10/dist-packages (from sympy->torch>=1.4.0->accelerate==0.14.0->kasafranse==1.0) (1.3.0)\n",
            "Building wheels for collected packages: kasafranse, googletrans, sacremoses\n",
            "  Building wheel for kasafranse (setup.py) ... \u001b[?25l\u001b[?25hdone\n",
            "  Created wheel for kasafranse: filename=kasafranse-1.0-py3-none-any.whl size=6523 sha256=05974f2807d17298f3c4aba3f628333aaa67f2e6708a2f216b02351ddc07bd69\n",
            "  Stored in directory: /tmp/pip-ephem-wheel-cache-rmuty048/wheels/7a/51/de/2094241e35dd5fb35b495ed0dd6eb5bc6440a3c2f2505a3f33\n",
            "  Building wheel for googletrans (setup.py) ... \u001b[?25l\u001b[?25hdone\n",
            "  Created wheel for googletrans: filename=googletrans-3.1.0a0-py3-none-any.whl size=16352 sha256=a96eb1e00c29410d07214bfac9cd8ca13afbb7514e47d4b200d46ccb9833a670\n",
            "  Stored in directory: /root/.cache/pip/wheels/50/5d/3c/8477d0af4ca2b8b1308812c09f1930863caeebc762fe265a95\n",
            "  Building wheel for sacremoses (setup.py) ... \u001b[?25l\u001b[?25hdone\n",
            "  Created wheel for sacremoses: filename=sacremoses-0.0.53-py3-none-any.whl size=895241 sha256=82c0c581490c7976e9795fbf16664a3d4ee8e7c649e8130708d77eef284742e8\n",
            "  Stored in directory: /root/.cache/pip/wheels/00/24/97/a2ea5324f36bc626e1ea0267f33db6aa80d157ee977e9e42fb\n",
            "Successfully built kasafranse googletrans sacremoses\n",
            "Installing collected packages: tokenizers, sentencepiece, rfc3986, hyperframe, hpack, h11, chardet, xxhash, sacremoses, portalocker, nltk, idna, hstspreload, h2, dill, colorama, sacrebleu, multiprocess, httpcore, responses, huggingface-hub, httpx, transformers, googletrans, datasets, evaluate, accelerate, kasafranse\n",
            "  Attempting uninstall: chardet\n",
            "    Found existing installation: chardet 4.0.0\n",
            "    Uninstalling chardet-4.0.0:\n",
            "      Successfully uninstalled chardet-4.0.0\n",
            "  Attempting uninstall: nltk\n",
            "    Found existing installation: nltk 3.8.1\n",
            "    Uninstalling nltk-3.8.1:\n",
            "      Successfully uninstalled nltk-3.8.1\n",
            "  Attempting uninstall: idna\n",
            "    Found existing installation: idna 3.4\n",
            "    Uninstalling idna-3.4:\n",
            "      Successfully uninstalled idna-3.4\n",
            "Successfully installed accelerate-0.14.0 chardet-3.0.4 colorama-0.4.6 datasets-2.13.1 dill-0.3.6 evaluate-0.3.0 googletrans-3.1.0a0 h11-0.9.0 h2-3.2.0 hpack-3.0.0 hstspreload-2023.1.1 httpcore-0.9.1 httpx-0.13.3 huggingface-hub-0.15.1 hyperframe-5.2.0 idna-2.10 kasafranse-1.0 multiprocess-0.70.14 nltk-3.7 portalocker-2.7.0 responses-0.18.0 rfc3986-1.5.0 sacrebleu-2.3.1 sacremoses-0.0.53 sentencepiece-0.1.97 tokenizers-0.13.3 transformers-4.24.0 xxhash-3.2.0\n"
          ]
        }
      ],
      "source": [
        "pip install git+https://github.com/gyasifred/kasafranse"
      ]
    },
    {
      "cell_type": "markdown",
      "source": [
        "## Perform Direct OPUS-MT Translation"
      ],
      "metadata": {
        "id": "L_gjwR1xqXa1"
      }
    },
    {
      "cell_type": "code",
      "source": [
        "from kasafranse.huggingFace import OpusDirectTranslate"
      ],
      "metadata": {
        "id": "W3w_ik-CA91E"
      },
      "execution_count": 3,
      "outputs": []
    },
    {
      "cell_type": "markdown",
      "source": [
        "French -> Twi"
      ],
      "metadata": {
        "id": "kfNnSQiJ8lf4"
      }
    },
    {
      "cell_type": "code",
      "source": [
        "#instantiate fr-tw opus direct object\n",
        "fr_tw = OpusDirectTranslate(\"/content/drive/MyDrive/MT/OPUS-mt-fr-tw-tuned\")"
      ],
      "metadata": {
        "id": "RNtiBA3n7wcs"
      },
      "execution_count": 4,
      "outputs": []
    },
    {
      "cell_type": "code",
      "source": [
        "#perform sample transltion\n",
        "fr_tw.translate(\"qui est le plus grand compositeur de tous les temps?\")"
      ],
      "metadata": {
        "id": "iczZfX-6_IQh",
        "outputId": "2ef7b07c-5143-4b11-ee76-55ae906b0c75",
        "colab": {
          "base_uri": "https://localhost:8080/",
          "height": 36
        }
      },
      "execution_count": 5,
      "outputs": [
        {
          "output_type": "execute_result",
          "data": {
            "text/plain": [
              "'hena ne obi a ne ho akokwaw sen obiara wɔ abakɔsɛm mu?'"
            ],
            "application/vnd.google.colaboratory.intrinsic+json": {
              "type": "string"
            }
          },
          "metadata": {},
          "execution_count": 5
        }
      ]
    },
    {
      "cell_type": "markdown",
      "source": [
        "Twi -> French"
      ],
      "metadata": {
        "id": "V7G2bJkW_oYi"
      }
    },
    {
      "cell_type": "code",
      "source": [
        "#instantiate tw-fr opus direct object\n",
        "tw_fr = OpusDirectTranslate(\"/content/drive/MyDrive/MT/OPUS-mt-tw-fr-tuned\")"
      ],
      "metadata": {
        "id": "cnhSpoxC_sUV"
      },
      "execution_count": 6,
      "outputs": []
    },
    {
      "cell_type": "code",
      "source": [
        "tw_fr.translate(\"nsuyiri no sɛee nnɔbae no.\")"
      ],
      "metadata": {
        "id": "NKJ9mTMD_6ry",
        "outputId": "45e2ea44-4ce2-4d2e-9938-0b3839c51b5c",
        "colab": {
          "base_uri": "https://localhost:8080/",
          "height": 36
        }
      },
      "execution_count": 7,
      "outputs": [
        {
          "output_type": "execute_result",
          "data": {
            "text/plain": [
              "'les plantes ont été submergées par les pluies.'"
            ],
            "application/vnd.google.colaboratory.intrinsic+json": {
              "type": "string"
            }
          },
          "metadata": {},
          "execution_count": 7
        }
      ]
    },
    {
      "cell_type": "markdown",
      "source": [
        "## Perform Pivot OPUS-MT Translation"
      ],
      "metadata": {
        "id": "K2wTrihqGaZs"
      }
    },
    {
      "cell_type": "code",
      "source": [
        "from kasafranse.huggingFace import OpusPivotTranslate"
      ],
      "metadata": {
        "id": "3Li2afOsGeDC"
      },
      "execution_count": 8,
      "outputs": []
    },
    {
      "cell_type": "markdown",
      "source": [
        "French -> English -> Twi\n"
      ],
      "metadata": {
        "id": "FmSpd6GeK_DH"
      }
    },
    {
      "cell_type": "code",
      "source": [
        "fr_tw_p = OpusPivotTranslate(\"/content/drive/MyDrive/MT/OPUS-mt-fr-en-tuned\",\n",
        "                             \"/content/drive/MyDrive/MT/OPUS-mt-en-tw-tuned\")"
      ],
      "metadata": {
        "id": "7YyvMX5XGp3q"
      },
      "execution_count": 9,
      "outputs": []
    },
    {
      "cell_type": "code",
      "source": [
        "fr_tw_p.translate(\"L'argent n'aime pas le bruit\")"
      ],
      "metadata": {
        "id": "7DE7GL5JHEP8",
        "outputId": "91d1ab3e-5ed3-4111-e05c-31502407f91d",
        "colab": {
          "base_uri": "https://localhost:8080/",
          "height": 36
        }
      },
      "execution_count": 10,
      "outputs": [
        {
          "output_type": "execute_result",
          "data": {
            "text/plain": [
              "'sika mpɛ dede'"
            ],
            "application/vnd.google.colaboratory.intrinsic+json": {
              "type": "string"
            }
          },
          "metadata": {},
          "execution_count": 10
        }
      ]
    },
    {
      "cell_type": "markdown",
      "source": [
        "Twi -> English -> French"
      ],
      "metadata": {
        "id": "SaFvoSULLHVN"
      }
    },
    {
      "cell_type": "code",
      "source": [
        "tw_fr_p = OpusPivotTranslate(\"/content/drive/MyDrive/MT/OPUS-mt-tw-en-tuned\",\n",
        "                             \"/content/drive/MyDrive/MT/OPUS-mt-en-fr-tuned\")"
      ],
      "metadata": {
        "id": "tUjgd-AULMOm"
      },
      "execution_count": 11,
      "outputs": []
    },
    {
      "cell_type": "code",
      "source": [
        "print(tw_fr_p.translate(\"seesei minni sika.\"))\n",
        "print()\n",
        "print(tw_fr_p.translate(\"sika mpɛ dede\"))"
      ],
      "metadata": {
        "id": "6GI79JNqLU8q",
        "outputId": "e480433c-a017-4479-f2ee-80d4de93bedb",
        "colab": {
          "base_uri": "https://localhost:8080/"
        }
      },
      "execution_count": 12,
      "outputs": [
        {
          "output_type": "stream",
          "name": "stdout",
          "text": [
            "je n'ai plus d'argent maintenant.\n",
            "\n",
            "l'argent n'aime pas le bruit.\n"
          ]
        }
      ]
    },
    {
      "cell_type": "markdown",
      "source": [
        "## Google API Translation"
      ],
      "metadata": {
        "id": "bW4V03N8_ijc"
      }
    },
    {
      "cell_type": "markdown",
      "source": [
        "Direct translation"
      ],
      "metadata": {
        "id": "wIKkFKoaA6-v"
      }
    },
    {
      "cell_type": "code",
      "source": [
        "from kasafranse.googleAPI import GoogleDirect"
      ],
      "metadata": {
        "id": "AX73eI5E_use"
      },
      "execution_count": 46,
      "outputs": []
    },
    {
      "cell_type": "markdown",
      "source": [
        "Twi -> French"
      ],
      "metadata": {
        "id": "HFHL8iCJBK4e"
      }
    },
    {
      "cell_type": "code",
      "source": [
        "google = GoogleDirect()"
      ],
      "metadata": {
        "id": "GN03MmoBBIj8"
      },
      "execution_count": 14,
      "outputs": []
    },
    {
      "cell_type": "code",
      "source": [
        "google.evaluate(\"seesei minni sika.\",\"ak\",\"fr\")"
      ],
      "metadata": {
        "colab": {
          "base_uri": "https://localhost:8080/",
          "height": 36
        },
        "id": "3nBb5F0BBoyx",
        "outputId": "0bbf2320-277c-4485-cc3f-7f7e6d19df1b"
      },
      "execution_count": 15,
      "outputs": [
        {
          "output_type": "execute_result",
          "data": {
            "text/plain": [
              "\"maintenant je n'ai plus d'argent.\""
            ],
            "application/vnd.google.colaboratory.intrinsic+json": {
              "type": "string"
            }
          },
          "metadata": {},
          "execution_count": 15
        }
      ]
    },
    {
      "cell_type": "markdown",
      "source": [
        "French -> Twi"
      ],
      "metadata": {
        "id": "NTskS4tGCHZ8"
      }
    },
    {
      "cell_type": "code",
      "source": [
        "google.evaluate(\"qui est le plus grand compositeur de tous les temps?\",\"fr\",\"ak\")"
      ],
      "metadata": {
        "colab": {
          "base_uri": "https://localhost:8080/",
          "height": 36
        },
        "id": "KpgV9P__CF5H",
        "outputId": "fa071521-7f07-4478-9cd5-1aca3f21bc2a"
      },
      "execution_count": 16,
      "outputs": [
        {
          "output_type": "execute_result",
          "data": {
            "text/plain": [
              "'hena ne nnwom hyehyɛfo a ɔsen biara wɔ bere nyinaa mu?'"
            ],
            "application/vnd.google.colaboratory.intrinsic+json": {
              "type": "string"
            }
          },
          "metadata": {},
          "execution_count": 16
        }
      ]
    },
    {
      "cell_type": "markdown",
      "source": [
        "Pivot Translation"
      ],
      "metadata": {
        "id": "z-Daelm6DAFO"
      }
    },
    {
      "cell_type": "code",
      "source": [
        "from kasafranse.googleAPI import GooglePivot"
      ],
      "metadata": {
        "id": "VENd-dUtCcgb"
      },
      "execution_count": 21,
      "outputs": []
    },
    {
      "cell_type": "code",
      "source": [
        "google = GooglePivot()"
      ],
      "metadata": {
        "id": "TMZTihMaDPd5"
      },
      "execution_count": 22,
      "outputs": []
    },
    {
      "cell_type": "markdown",
      "source": [
        "Twi -> French"
      ],
      "metadata": {
        "id": "fjKRDT5YDKuo"
      }
    },
    {
      "cell_type": "code",
      "source": [
        "google.evaluate(\"nsuyiri no sɛee nnɔbae no.\",src_key= \"ak\",dest_key=\"fr\",pivot_key=\"en\")"
      ],
      "metadata": {
        "colab": {
          "base_uri": "https://localhost:8080/",
          "height": 36
        },
        "id": "yQq86BzuDHjh",
        "outputId": "b0f97e6f-ca21-46c7-b71a-0e17ce9b9200"
      },
      "execution_count": 23,
      "outputs": [
        {
          "output_type": "execute_result",
          "data": {
            "text/plain": [
              "'les inondations ont détruit les récoltes.'"
            ],
            "application/vnd.google.colaboratory.intrinsic+json": {
              "type": "string"
            }
          },
          "metadata": {},
          "execution_count": 23
        }
      ]
    },
    {
      "cell_type": "markdown",
      "source": [
        "French -> Twi"
      ],
      "metadata": {
        "id": "ArQreQYWEO-6"
      }
    },
    {
      "cell_type": "code",
      "source": [
        "google.evaluate(\"L'argent n'aime pas le bruit\",src_key= \"fr\",dest_key=\"ak\",pivot_key=\"en\")"
      ],
      "metadata": {
        "colab": {
          "base_uri": "https://localhost:8080/",
          "height": 36
        },
        "id": "Ta_bh5P2ERkR",
        "outputId": "21cc1142-e256-4c22-a043-c878e14c202f"
      },
      "execution_count": 24,
      "outputs": [
        {
          "output_type": "execute_result",
          "data": {
            "text/plain": [
              "'Sika mpɛ dede'"
            ],
            "application/vnd.google.colaboratory.intrinsic+json": {
              "type": "string"
            }
          },
          "metadata": {},
          "execution_count": 24
        }
      ]
    },
    {
      "cell_type": "markdown",
      "source": [
        "Evaluation Metrics"
      ],
      "metadata": {
        "id": "Fq4ddPyoynlO"
      }
    },
    {
      "cell_type": "code",
      "source": [
        "from kasafranse.metrics import BLEU,AzunreBleu, Sacrebleu\n",
        "from nltk.translate.bleu_score import SmoothingFunction"
      ],
      "metadata": {
        "id": "fua2LhWJtdnT"
      },
      "execution_count": 47,
      "outputs": []
    },
    {
      "cell_type": "code",
      "source": [
        "smooth = SmoothingFunction()"
      ],
      "metadata": {
        "id": "ih-0vc9ezkU1"
      },
      "execution_count": 49,
      "outputs": []
    },
    {
      "cell_type": "code",
      "source": [
        "bleu = BLEU()"
      ],
      "metadata": {
        "id": "24ivlPQwtjMl"
      },
      "execution_count": 50,
      "outputs": []
    },
    {
      "cell_type": "code",
      "source": [
        "bleu.get_bleuscore(\"/content/drive/MyDrive/data/translate_frentw\",\n",
        "                   \"/content/drive/MyDrive/data/test_twi\",\n",
        "                   smooth.method7)"
      ],
      "metadata": {
        "id": "gmBhIj16tr3e",
        "outputId": "6e2171a9-10b8-41c9-b30e-cfa383de522b",
        "colab": {
          "base_uri": "https://localhost:8080/"
        }
      },
      "execution_count": 51,
      "outputs": [
        {
          "output_type": "execute_result",
          "data": {
            "text/plain": [
              "('2-GRAMS: 0.64', '3-GRAMS: 0.52', '4-GRAMS: 0.45')"
            ]
          },
          "metadata": {},
          "execution_count": 51
        }
      ]
    },
    {
      "cell_type": "code",
      "source": [
        "sacrebleu = Sacrebleu()"
      ],
      "metadata": {
        "id": "nmR0OEQ7t9Cd"
      },
      "execution_count": 42,
      "outputs": []
    },
    {
      "cell_type": "code",
      "source": [
        "sacrebleu.get_bleuscore(\"/content/drive/MyDrive/data/translate_frentw\",\n",
        "                        \"/content/drive/MyDrive/data/test_twi\")"
      ],
      "metadata": {
        "id": "nF1yBQlux4QC",
        "outputId": "4cbc84d8-1981-4cff-fc68-90b1374123a1",
        "colab": {
          "base_uri": "https://localhost:8080/",
          "height": 36
        }
      },
      "execution_count": 53,
      "outputs": [
        {
          "output_type": "execute_result",
          "data": {
            "text/plain": [
              "'SacreBLEU SCORE: 41.48'"
            ],
            "application/vnd.google.colaboratory.intrinsic+json": {
              "type": "string"
            }
          },
          "metadata": {},
          "execution_count": 53
        }
      ]
    },
    {
      "cell_type": "code",
      "source": [
        "azunrebleu = AzunreBleu()\n",
        "azunrebleu.get_bleuscore(\"/content/drive/MyDrive/data/translate_frentw\",\n",
        "                         \"/content/drive/MyDrive/data/test_twi\",\n",
        "                         smooth.method7)"
      ],
      "metadata": {
        "id": "NAjZIChIyEp1",
        "outputId": "fffc6770-cbba-4331-ecb5-e34b6d1e5418",
        "colab": {
          "base_uri": "https://localhost:8080/",
          "height": 36
        }
      },
      "execution_count": 54,
      "outputs": [
        {
          "output_type": "execute_result",
          "data": {
            "text/plain": [
              "'BLEU SCORE: 0.81'"
            ],
            "application/vnd.google.colaboratory.intrinsic+json": {
              "type": "string"
            }
          },
          "metadata": {},
          "execution_count": 54
        }
      ]
    },
    {
      "cell_type": "code",
      "source": [],
      "metadata": {
        "id": "rCoDWsweyRn4"
      },
      "execution_count": null,
      "outputs": []
    }
  ]
}